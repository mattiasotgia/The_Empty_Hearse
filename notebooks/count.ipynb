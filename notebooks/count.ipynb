{
 "cells": [
  {
   "cell_type": "code",
   "execution_count": 1,
   "id": "1ce9b37c-9640-4986-a476-eaa9ae10d992",
   "metadata": {},
   "outputs": [],
   "source": [
    "import uproot\n",
    "import pandas as pd"
   ]
  },
  {
   "cell_type": "code",
   "execution_count": 5,
   "id": "6ce7be38-5493-4190-b2bb-3b8f283c114c",
   "metadata": {},
   "outputs": [],
   "source": [
    "data = uproot.open('count_events.root:ana')"
   ]
  },
  {
   "cell_type": "code",
   "execution_count": 12,
   "id": "14cebcde-732f-4c54-94ab-e5d3c9e3db6d",
   "metadata": {},
   "outputs": [],
   "source": [
    "cheated = data['cheated'].arrays(library='pd').sort_values('event')\n",
    "nominal = data['nominal'].arrays(library='pd').sort_values('event')\n"
   ]
  },
  {
   "cell_type": "code",
   "execution_count": 11,
   "id": "03a7d434-627c-4ec8-817c-e3c8822abb78",
   "metadata": {},
   "outputs": [
    {
     "data": {
      "text/plain": [
       "(       run  subrun  event\n",
       " 17750  1.0     0.0    1.0\n",
       " 17751  1.0     0.0    2.0\n",
       " 17752  1.0     0.0    3.0\n",
       " 17753  1.0     0.0    4.0\n",
       " 17754  1.0     0.0    5.0,\n",
       "        run  subrun  event\n",
       " 17350  1.0     0.0    1.0\n",
       " 17351  1.0     0.0    2.0\n",
       " 17352  1.0     0.0    3.0\n",
       " 17353  1.0     0.0    4.0\n",
       " 17354  1.0     0.0    5.0)"
      ]
     },
     "execution_count": 11,
     "metadata": {},
     "output_type": "execute_result"
    }
   ],
   "source": [
    "cheated.sort_values('event').head(), nominal.sort_values('event').head()"
   ]
  },
  {
   "cell_type": "code",
   "execution_count": 22,
   "id": "fb7c5df8-dfeb-45e9-99dc-84b116435975",
   "metadata": {},
   "outputs": [],
   "source": [
    "common = pd.merge(cheated, nominal, on='event')"
   ]
  },
  {
   "cell_type": "code",
   "execution_count": 25,
   "id": "e926fa92-d74e-4547-a71e-fe6c1c49ecd0",
   "metadata": {},
   "outputs": [
    {
     "data": {
      "text/plain": [
       "((400,), (0,))"
      ]
     },
     "execution_count": 25,
     "metadata": {},
     "output_type": "execute_result"
    }
   ],
   "source": [
    "cheated[~cheated.event.isin(common.event)].event.shape, nominal[~nominal.event.isin(common.event)].event.shape"
   ]
  },
  {
   "cell_type": "code",
   "execution_count": null,
   "id": "8f836bbb-4734-4c6c-8f87-2cd63372ec99",
   "metadata": {},
   "outputs": [],
   "source": []
  }
 ],
 "metadata": {
  "kernelspec": {
   "display_name": "Python 3 (ipykernel)",
   "language": "python",
   "name": "python3"
  },
  "language_info": {
   "codemirror_mode": {
    "name": "ipython",
    "version": 3
   },
   "file_extension": ".py",
   "mimetype": "text/x-python",
   "name": "python",
   "nbconvert_exporter": "python",
   "pygments_lexer": "ipython3",
   "version": "3.13.1"
  }
 },
 "nbformat": 4,
 "nbformat_minor": 5
}
