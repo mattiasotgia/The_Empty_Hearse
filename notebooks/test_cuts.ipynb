{
 "cells": [
  {
   "cell_type": "code",
   "execution_count": 374,
   "id": "4b2d73e2-e96a-4057-87e5-e536273de0c5",
   "metadata": {},
   "outputs": [],
   "source": [
    "import pandas as pd\n",
    "\n",
    "maria = pd.read_csv('events_in_maria_dE.txt', sep=' ', names=['evt', 'dE'])\n",
    "\n",
    "mattia = pd.read_csv('events_in_mattia.txt', sep=' ', names=['evt', 'dE'])\n",
    "\n",
    "maria = maria.sort_values('evt')\n",
    "mattia = mattia.sort_values('evt')"
   ]
  },
  {
   "cell_type": "code",
   "execution_count": 375,
   "id": "c8cf2fc1-fcac-41ea-946c-bf97ec6ac00c",
   "metadata": {},
   "outputs": [
    {
     "data": {
      "text/html": [
       "<div>\n",
       "<style scoped>\n",
       "    .dataframe tbody tr th:only-of-type {\n",
       "        vertical-align: middle;\n",
       "    }\n",
       "\n",
       "    .dataframe tbody tr th {\n",
       "        vertical-align: top;\n",
       "    }\n",
       "\n",
       "    .dataframe thead th {\n",
       "        text-align: right;\n",
       "    }\n",
       "</style>\n",
       "<table border=\"1\" class=\"dataframe\">\n",
       "  <thead>\n",
       "    <tr style=\"text-align: right;\">\n",
       "      <th></th>\n",
       "      <th>evt</th>\n",
       "      <th>dE</th>\n",
       "    </tr>\n",
       "  </thead>\n",
       "  <tbody>\n",
       "    <tr>\n",
       "      <th>150</th>\n",
       "      <td>565</td>\n",
       "      <td>-0.589506</td>\n",
       "    </tr>\n",
       "  </tbody>\n",
       "</table>\n",
       "</div>"
      ],
      "text/plain": [
       "     evt        dE\n",
       "150  565 -0.589506"
      ]
     },
     "execution_count": 375,
     "metadata": {},
     "output_type": "execute_result"
    }
   ],
   "source": [
    "mattia[mattia.evt==565].head()"
   ]
  },
  {
   "cell_type": "code",
   "execution_count": 376,
   "id": "24e6845f-b44d-4309-8f47-21da2b601e75",
   "metadata": {},
   "outputs": [
    {
     "data": {
      "text/html": [
       "<div>\n",
       "<style scoped>\n",
       "    .dataframe tbody tr th:only-of-type {\n",
       "        vertical-align: middle;\n",
       "    }\n",
       "\n",
       "    .dataframe tbody tr th {\n",
       "        vertical-align: top;\n",
       "    }\n",
       "\n",
       "    .dataframe thead th {\n",
       "        text-align: right;\n",
       "    }\n",
       "</style>\n",
       "<table border=\"1\" class=\"dataframe\">\n",
       "  <thead>\n",
       "    <tr style=\"text-align: right;\">\n",
       "      <th></th>\n",
       "      <th>evt</th>\n",
       "      <th>dE</th>\n",
       "    </tr>\n",
       "  </thead>\n",
       "  <tbody>\n",
       "    <tr>\n",
       "      <th>133</th>\n",
       "      <td>565</td>\n",
       "      <td>0</td>\n",
       "    </tr>\n",
       "  </tbody>\n",
       "</table>\n",
       "</div>"
      ],
      "text/plain": [
       "     evt  dE\n",
       "133  565   0"
      ]
     },
     "execution_count": 376,
     "metadata": {},
     "output_type": "execute_result"
    }
   ],
   "source": [
    "maria[maria.evt==565].head()"
   ]
  },
  {
   "cell_type": "code",
   "execution_count": 377,
   "id": "e1c902f3-c370-45ba-9591-bb9dd7bcd826",
   "metadata": {},
   "outputs": [
    {
     "data": {
      "text/plain": [
       "((540,), (591,))"
      ]
     },
     "execution_count": 377,
     "metadata": {},
     "output_type": "execute_result"
    }
   ],
   "source": [
    "maria.evt.shape, mattia.evt.shape"
   ]
  },
  {
   "cell_type": "code",
   "execution_count": 378,
   "id": "e0e553ed-4f1d-456c-ba7f-4e9d0b7385f2",
   "metadata": {},
   "outputs": [
    {
     "data": {
      "text/plain": [
       "301     1026\n",
       "302     1026\n",
       "159     1277\n",
       "172     1327\n",
       "281     1636\n",
       "554     3788\n",
       "90      3971\n",
       "91      3997\n",
       "261     4160\n",
       "260     4160\n",
       "426     4473\n",
       "229     4562\n",
       "429     4886\n",
       "496     5428\n",
       "498     5445\n",
       "211     5917\n",
       "359     6108\n",
       "477     6895\n",
       "507     7013\n",
       "144     8629\n",
       "145     8633\n",
       "146     8649\n",
       "71      9380\n",
       "395     9492\n",
       "316     9584\n",
       "197    10004\n",
       "198    10022\n",
       "169    10576\n",
       "130    11139\n",
       "131    11146\n",
       "64     11549\n",
       "47     11841\n",
       "122    13659\n",
       "123    13668\n",
       "245    13725\n",
       "446    14535\n",
       "95     14837\n",
       "588    15357\n",
       "541    15473\n",
       "543    15484\n",
       "208    15610\n",
       "209    15628\n",
       "119    15907\n",
       "120    15913\n",
       "121    15947\n",
       "294    16754\n",
       "80     16878\n",
       "524    17302\n",
       "525    17306\n",
       "526    17336\n",
       "527    17336\n",
       "Name: evt, dtype: int64"
      ]
     },
     "execution_count": 378,
     "metadata": {},
     "output_type": "execute_result"
    }
   ],
   "source": [
    "mattia[~mattia.evt.isin(maria.evt)].evt"
   ]
  },
  {
   "cell_type": "code",
   "execution_count": 379,
   "id": "0975778f-9382-4053-8884-5643f255040f",
   "metadata": {},
   "outputs": [
    {
     "data": {
      "text/plain": [
       "array([], dtype=int64)"
      ]
     },
     "execution_count": 379,
     "metadata": {},
     "output_type": "execute_result"
    }
   ],
   "source": [
    "maria[~maria.evt.isin(mattia.evt)].evt.values"
   ]
  },
  {
   "cell_type": "code",
   "execution_count": 380,
   "id": "e7bfb41d-3271-48be-a4b4-eed13ed2cbce",
   "metadata": {},
   "outputs": [
    {
     "name": "stdout",
     "output_type": "stream",
     "text": [
      "False, "
     ]
    }
   ],
   "source": [
    "for A, B in zip(mattia[mattia.evt.isin(maria.evt)].dE.unique(), maria[maria.evt.isin(mattia.evt)].dE.unique()):\n",
    "    print(A == B, end=', ')"
   ]
  },
  {
   "cell_type": "code",
   "execution_count": 381,
   "id": "c1d3d5b7-6c9c-43e5-b9b4-93501bcd4366",
   "metadata": {},
   "outputs": [
    {
     "name": "stdout",
     "output_type": "stream",
     "text": [
      "True, True, True, True, True, True, True, True, True, True, True, True, True, True, True, True, True, True, True, True, True, True, True, True, True, True, True, False, False, True, True, True, True, True, False, True, False, True, True, True, True, True, False, True, True, True, True, True, True, True, True, True, True, True, True, True, True, True, True, True, True, True, True, True, True, True, True, True, True, True, True, True, True, True, True, True, True, True, True, True, True, True, True, True, True, True, True, True, True, True, True, True, True, True, True, True, True, True, True, True, True, True, True, True, True, True, True, True, True, True, False, True, True, True, True, True, False, False, True, True, True, True, True, True, True, True, True, False, False, True, True, True, True, True, True, True, True, False, True, True, True, True, False, True, True, True, True, True, True, True, True, True, True, True, True, True, True, True, True, True, False, True, True, True, True, True, True, True, True, True, True, True, True, True, True, True, True, True, False, True, False, True, True, True, True, True, True, True, True, True, True, True, True, True, False, True, True, True, True, True, False, True, True, True, True, True, True, True, True, True, True, True, True, True, True, True, True, True, True, True, True, True, True, True, True, True, False, True, True, True, True, True, False, True, True, True, True, True, True, True, True, True, True, True, True, True, True, True, True, True, True, True, True, True, True, True, True, True, True, True, True, True, True, True, True, True, True, True, True, True, True, True, True, True, True, True, True, True, True, True, True, True, True, True, True, True, True, False, False, False, True, True, True, True, True, True, True, True, True, True, True, True, True, True, True, True, True, True, True, True, True, True, False, True, True, False, True, True, True, True, True, True, False, True, True, True, True, True, True, True, True, True, True, True, True, False, False, True, True, True, True, True, True, True, True, True, True, True, True, True, True, True, True, True, False, True, True, True, True, True, True, True, True, False, False, True, True, True, True, True, True, True, True, False, True, True, True, True, True, True, True, True, True, True, True, True, True, True, True, True, False, True, True, True, True, True, True, True, True, True, True, True, True, True, True, True, True, True, True, True, True, True, True, True, True, True, True, True, True, True, True, True, True, True, True, True, True, True, True, True, True, True, True, True, True, True, True, True, True, True, True, True, True, True, True, True, True, True, True, True, True, True, True, True, True, True, True, True, False, False, True, False, True, True, True, True, True, True, True, True, True, True, True, True, True, True, True, True, True, True, True, True, True, True, True, False, True, True, True, True, True, True, True, True, True, False, True, True, True, True, True, True, True, True, True, True, True, False, True, True, True, True, True, True, True, True, True, False, True, False, True, True, False, False, True, True, True, True, False, False, False, True, True, True, True, True, True, True, True, True, True, True, True, True, True, True, True, True, True, True, True, True, True, True, True, True, True, True, True, True, True, True, True, True, False, True, True, True, True, True, True, True, False, True, True, True, True, True, True, True, True, True, True, True, False, False, False, False, True, True, True, "
     ]
    }
   ],
   "source": [
    "for i in mattia.evt.isin(maria.evt):\n",
    "    print(i, end=', ')"
   ]
  },
  {
   "cell_type": "code",
   "execution_count": null,
   "id": "e00579c4-f565-40f3-9e9f-6be148c09657",
   "metadata": {},
   "outputs": [],
   "source": []
  },
  {
   "cell_type": "code",
   "execution_count": null,
   "id": "29daa9c7-d781-4737-8313-b85438b4b565",
   "metadata": {},
   "outputs": [],
   "source": []
  },
  {
   "cell_type": "code",
   "execution_count": null,
   "id": "aae2a1d6-bca7-49ed-b2a2-b7168554bbac",
   "metadata": {},
   "outputs": [],
   "source": []
  },
  {
   "cell_type": "code",
   "execution_count": null,
   "id": "e54f3cd0-1ca0-4736-ab9b-3eb7fd24e09e",
   "metadata": {},
   "outputs": [],
   "source": []
  },
  {
   "cell_type": "code",
   "execution_count": 382,
   "id": "a2720a18-f1e5-46ff-a6ee-0e0be0f2e1ec",
   "metadata": {},
   "outputs": [],
   "source": [
    "import uproot\n",
    "data = uproot.open('tests_mattia.root:ana/test').arrays(library='pd')\n",
    "data = data.sort_values('event')"
   ]
  },
  {
   "cell_type": "code",
   "execution_count": 383,
   "id": "206628de-692b-4bd0-936f-1755a40d5d34",
   "metadata": {},
   "outputs": [
    {
     "data": {
      "text/plain": [
       "array([], dtype=float64)"
      ]
     },
     "execution_count": 383,
     "metadata": {},
     "output_type": "execute_result"
    }
   ],
   "source": [
    "data[data.mattia != data.maria].event.values"
   ]
  },
  {
   "cell_type": "code",
   "execution_count": 384,
   "id": "2673aaaf-b749-4b1d-82ee-5a5be3e15d70",
   "metadata": {},
   "outputs": [
    {
     "data": {
      "text/html": [
       "<div>\n",
       "<style scoped>\n",
       "    .dataframe tbody tr th:only-of-type {\n",
       "        vertical-align: middle;\n",
       "    }\n",
       "\n",
       "    .dataframe tbody tr th {\n",
       "        vertical-align: top;\n",
       "    }\n",
       "\n",
       "    .dataframe thead th {\n",
       "        text-align: right;\n",
       "    }\n",
       "</style>\n",
       "<table border=\"1\" class=\"dataframe\">\n",
       "  <thead>\n",
       "    <tr style=\"text-align: right;\">\n",
       "      <th></th>\n",
       "      <th>event</th>\n",
       "      <th>mattia</th>\n",
       "      <th>maria</th>\n",
       "    </tr>\n",
       "  </thead>\n",
       "  <tbody>\n",
       "  </tbody>\n",
       "</table>\n",
       "</div>"
      ],
      "text/plain": [
       "Empty DataFrame\n",
       "Columns: [event, mattia, maria]\n",
       "Index: []"
      ]
     },
     "execution_count": 384,
     "metadata": {},
     "output_type": "execute_result"
    }
   ],
   "source": [
    "data[(data.mattia == 2) & (data.maria == 0)]"
   ]
  },
  {
   "cell_type": "code",
   "execution_count": 385,
   "id": "1ef68965-d37a-47b9-ae40-96e0f5278add",
   "metadata": {},
   "outputs": [
    {
     "data": {
      "text/html": [
       "<div>\n",
       "<style scoped>\n",
       "    .dataframe tbody tr th:only-of-type {\n",
       "        vertical-align: middle;\n",
       "    }\n",
       "\n",
       "    .dataframe tbody tr th {\n",
       "        vertical-align: top;\n",
       "    }\n",
       "\n",
       "    .dataframe thead th {\n",
       "        text-align: right;\n",
       "    }\n",
       "</style>\n",
       "<table border=\"1\" class=\"dataframe\">\n",
       "  <thead>\n",
       "    <tr style=\"text-align: right;\">\n",
       "      <th></th>\n",
       "      <th>event</th>\n",
       "      <th>mattia</th>\n",
       "      <th>maria</th>\n",
       "    </tr>\n",
       "  </thead>\n",
       "  <tbody>\n",
       "  </tbody>\n",
       "</table>\n",
       "</div>"
      ],
      "text/plain": [
       "Empty DataFrame\n",
       "Columns: [event, mattia, maria]\n",
       "Index: []"
      ]
     },
     "execution_count": 385,
     "metadata": {},
     "output_type": "execute_result"
    }
   ],
   "source": [
    "data[(data.mattia == 3) & (data.maria == 0)]"
   ]
  },
  {
   "cell_type": "code",
   "execution_count": 386,
   "id": "21dc7f72-deac-42c5-a086-7ec365d5c361",
   "metadata": {},
   "outputs": [
    {
     "data": {
      "text/html": [
       "<div>\n",
       "<style scoped>\n",
       "    .dataframe tbody tr th:only-of-type {\n",
       "        vertical-align: middle;\n",
       "    }\n",
       "\n",
       "    .dataframe tbody tr th {\n",
       "        vertical-align: top;\n",
       "    }\n",
       "\n",
       "    .dataframe thead th {\n",
       "        text-align: right;\n",
       "    }\n",
       "</style>\n",
       "<table border=\"1\" class=\"dataframe\">\n",
       "  <thead>\n",
       "    <tr style=\"text-align: right;\">\n",
       "      <th></th>\n",
       "      <th>event</th>\n",
       "      <th>mattia</th>\n",
       "      <th>maria</th>\n",
       "    </tr>\n",
       "  </thead>\n",
       "  <tbody>\n",
       "  </tbody>\n",
       "</table>\n",
       "</div>"
      ],
      "text/plain": [
       "Empty DataFrame\n",
       "Columns: [event, mattia, maria]\n",
       "Index: []"
      ]
     },
     "execution_count": 386,
     "metadata": {},
     "output_type": "execute_result"
    }
   ],
   "source": [
    "data[(data.mattia == 1) & (data.maria == 0)]"
   ]
  },
  {
   "cell_type": "code",
   "execution_count": 387,
   "id": "8cf4c77c-095e-4afa-8ba5-793f94c64ff9",
   "metadata": {},
   "outputs": [
    {
     "data": {
      "text/html": [
       "<div>\n",
       "<style scoped>\n",
       "    .dataframe tbody tr th:only-of-type {\n",
       "        vertical-align: middle;\n",
       "    }\n",
       "\n",
       "    .dataframe tbody tr th {\n",
       "        vertical-align: top;\n",
       "    }\n",
       "\n",
       "    .dataframe thead th {\n",
       "        text-align: right;\n",
       "    }\n",
       "</style>\n",
       "<table border=\"1\" class=\"dataframe\">\n",
       "  <thead>\n",
       "    <tr style=\"text-align: right;\">\n",
       "      <th></th>\n",
       "      <th>event</th>\n",
       "      <th>mattia</th>\n",
       "      <th>maria</th>\n",
       "    </tr>\n",
       "  </thead>\n",
       "  <tbody>\n",
       "  </tbody>\n",
       "</table>\n",
       "</div>"
      ],
      "text/plain": [
       "Empty DataFrame\n",
       "Columns: [event, mattia, maria]\n",
       "Index: []"
      ]
     },
     "execution_count": 387,
     "metadata": {},
     "output_type": "execute_result"
    }
   ],
   "source": [
    "data[(data.mattia == 2) & (data.maria == 2)]"
   ]
  },
  {
   "cell_type": "code",
   "execution_count": 388,
   "id": "65048310-7151-4113-971d-99d0b3f36c4f",
   "metadata": {},
   "outputs": [
    {
     "data": {
      "text/html": [
       "<div>\n",
       "<style scoped>\n",
       "    .dataframe tbody tr th:only-of-type {\n",
       "        vertical-align: middle;\n",
       "    }\n",
       "\n",
       "    .dataframe tbody tr th {\n",
       "        vertical-align: top;\n",
       "    }\n",
       "\n",
       "    .dataframe thead th {\n",
       "        text-align: right;\n",
       "    }\n",
       "</style>\n",
       "<table border=\"1\" class=\"dataframe\">\n",
       "  <thead>\n",
       "    <tr style=\"text-align: right;\">\n",
       "      <th></th>\n",
       "      <th>event</th>\n",
       "      <th>mattia</th>\n",
       "      <th>maria</th>\n",
       "    </tr>\n",
       "  </thead>\n",
       "  <tbody>\n",
       "    <tr>\n",
       "      <th>count</th>\n",
       "      <td>8244.000000</td>\n",
       "      <td>8244.000000</td>\n",
       "      <td>8244.000000</td>\n",
       "    </tr>\n",
       "    <tr>\n",
       "      <th>mean</th>\n",
       "      <td>8751.386584</td>\n",
       "      <td>-9530.833778</td>\n",
       "      <td>-9530.833778</td>\n",
       "    </tr>\n",
       "    <tr>\n",
       "      <th>std</th>\n",
       "      <td>5029.323740</td>\n",
       "      <td>2112.461380</td>\n",
       "      <td>2112.461380</td>\n",
       "    </tr>\n",
       "    <tr>\n",
       "      <th>min</th>\n",
       "      <td>51.000000</td>\n",
       "      <td>-9999.000000</td>\n",
       "      <td>-9999.000000</td>\n",
       "    </tr>\n",
       "    <tr>\n",
       "      <th>25%</th>\n",
       "      <td>4428.250000</td>\n",
       "      <td>-9999.000000</td>\n",
       "      <td>-9999.000000</td>\n",
       "    </tr>\n",
       "    <tr>\n",
       "      <th>50%</th>\n",
       "      <td>8615.000000</td>\n",
       "      <td>-9999.000000</td>\n",
       "      <td>-9999.000000</td>\n",
       "    </tr>\n",
       "    <tr>\n",
       "      <th>75%</th>\n",
       "      <td>13077.500000</td>\n",
       "      <td>-9999.000000</td>\n",
       "      <td>-9999.000000</td>\n",
       "    </tr>\n",
       "    <tr>\n",
       "      <th>max</th>\n",
       "      <td>17500.000000</td>\n",
       "      <td>0.112337</td>\n",
       "      <td>0.112337</td>\n",
       "    </tr>\n",
       "  </tbody>\n",
       "</table>\n",
       "</div>"
      ],
      "text/plain": [
       "              event       mattia        maria\n",
       "count   8244.000000  8244.000000  8244.000000\n",
       "mean    8751.386584 -9530.833778 -9530.833778\n",
       "std     5029.323740  2112.461380  2112.461380\n",
       "min       51.000000 -9999.000000 -9999.000000\n",
       "25%     4428.250000 -9999.000000 -9999.000000\n",
       "50%     8615.000000 -9999.000000 -9999.000000\n",
       "75%    13077.500000 -9999.000000 -9999.000000\n",
       "max    17500.000000     0.112337     0.112337"
      ]
     },
     "execution_count": 388,
     "metadata": {},
     "output_type": "execute_result"
    }
   ],
   "source": [
    "data.describe()"
   ]
  },
  {
   "cell_type": "code",
   "execution_count": 389,
   "id": "a773c4f5-eb21-4d42-8248-2cc9a904e82c",
   "metadata": {},
   "outputs": [
    {
     "data": {
      "text/plain": [
       "<matplotlib.legend.Legend at 0x11a563b10>"
      ]
     },
     "execution_count": 389,
     "metadata": {},
     "output_type": "execute_result"
    },
    {
     "data": {
      "image/png": "[encoded data removed]",
      "text/plain": [
       "Figure(nrows=1, ncols=1, figwidth=np.float64(4.5), figheight=np.float64(3.5))"
      ]
     },
     "metadata": {
      "image/png": {
       "height": 350,
       "width": 450
      },
      "needs_background": "light"
     },
     "output_type": "display_data"
    }
   ],
   "source": [
    "\n",
    "import uproot\n",
    "\n",
    "import pandas as pd\n",
    "import ultraplot as plot\n",
    "\n",
    "import matplotlib as mpl\n",
    "import matplotlib.pyplot as plt\n",
    "\n",
    "import mplhep as hep\n",
    "\n",
    "import numpy as np\n",
    "\n",
    "plot.rc['figure.facecolor'] = 'none'\n",
    "plot.rc['savefig.facecolor'] = 'none'\n",
    "plot.rc['legend.frameon'] = False\n",
    "plot.rc['axes.autolimit_mode'] = 'data'\n",
    "\n",
    "dE_bins=np.linspace(-1., 1., 76)\n",
    "# dE_bins=np.concatenate([dE_bins, np.array([1.])])\n",
    "\n",
    "fig, ax = plot.subplots(\n",
    "    width=4.5, height=3.5, ncols=1, nrows=1, \n",
    "    xlabel=r'Reco energy $E_\\text{reco}^\\nu$', ylabel=f'Selected spills / bin',  \n",
    "    titlecolor='k', abc=True, share=False, grid=False, sharey='labs',\n",
    "    # titlesize=9,\n",
    "    urtitle='ICARUS MC BNB / $\\\\nu$-only\\nTrue + reco $1\\\\mu 1p$\\nselection'# , yscale='log',\n",
    ")\n",
    "\n",
    "ax.hist(data.mattia, bins=dE_bins, label='Mattia selection')\n",
    "ax.hist(data.maria, bins=dE_bins, label='Maria selection', color='r', fill=False)\n",
    "ax.format(xlabel=r'Reco - true energy $\\delta_E = E_\\text{reco}-E_\\text{true}/E_\\text{true}$')\n",
    "\n",
    "xmin = np.diff(dE_bins)[0]\n",
    "ax.axvspan(-xmin/2, +xmin/2, color='k', alpha=0.5, lw=1)\n",
    "\n",
    "ax.legend(loc='ul', ncol=1)"
   ]
  },
  {
   "cell_type": "code",
   "execution_count": 390,
   "id": "a6455ea9-092b-485c-aada-1a1019df5861",
   "metadata": {},
   "outputs": [],
   "source": [
    "for e in data[data.mattia != data.maria].event.values:\n",
    "    print(f'{e = }, with value (mattia, maria) = {data[data.event==e].mattia.values, data[data.event==e].maria.values}')"
   ]
  },
  {
   "cell_type": "code",
   "execution_count": 391,
   "id": "ab797aad-e6e7-4050-b728-22e21248b6f9",
   "metadata": {},
   "outputs": [
    {
     "data": {
      "text/plain": [
       "(np.int64(386), np.int64(386))"
      ]
     },
     "execution_count": 391,
     "metadata": {},
     "output_type": "execute_result"
    }
   ],
   "source": [
    "(data.mattia > -2).sum(), (data.maria > -2).sum()"
   ]
  },
  {
   "cell_type": "code",
   "execution_count": null,
   "id": "f3a099a4-3c6e-4707-8460-500290f08702",
   "metadata": {},
   "outputs": [],
   "source": []
  },
  {
   "cell_type": "code",
   "execution_count": null,
   "id": "af98ccb3-d22f-4d97-be3a-cdc0002930a2",
   "metadata": {},
   "outputs": [],
   "source": []
  },
  {
   "cell_type": "code",
   "execution_count": null,
   "id": "bbc0f06c-2298-4737-be2b-0fea4c5d7cb5",
   "metadata": {},
   "outputs": [],
   "source": []
  }
 ],
 "metadata": {
  "kernelspec": {
   "display_name": "Python 3 (ipykernel)",
   "language": "python",
   "name": "python3"
  },
  "language_info": {
   "codemirror_mode": {
    "name": "ipython",
    "version": 3
   },
   "file_extension": ".py",
   "mimetype": "text/x-python",
   "name": "python",
   "nbconvert_exporter": "python",
   "pygments_lexer": "ipython3",
   "version": "3.13.1"
  }
 },
 "nbformat": 4,
 "nbformat_minor": 5
}
